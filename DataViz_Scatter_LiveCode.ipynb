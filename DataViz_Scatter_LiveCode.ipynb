{
 "cells": [
  {
   "cell_type": "markdown",
   "metadata": {},
   "source": [
    "# Data visualization with Matpotlib: Scatter plots\n",
    "\n",
    "**Created by: Kirstie Whitaker**\n",
    "\n",
    "**Created on: 29 July 2019**\n",
    "\n",
    "In 2017 Michael Vendetti and I published a paper on *\"Neuroscientific insights into the development of analogical reasoning\"*.\n",
    "The code to recreate the figures from processed data is available at https://github.com/KirstieJane/NORA_WhitakerVendetti_DevSci2017.\n",
    "\n",
    "This tutorial is going to recreate figure 2 which outlines the behavioral results from the study.\n",
    "\n",
    "![](https://raw.githubusercontent.com/KirstieJane/NORA_WhitakerVendetti_DevSci2017/master/FIGURES/Figure2_lowres.png)\n",
    "\n",
    "### Take what you need\n",
    "\n",
    "The philosophy of the tutorial is that I'll start by making some very simple plots, and then enhance them up to \"publication standard\".\n",
    "\n",
    "You should take _only the parts you need_ and leave the rest behind.\n",
    "If you don't care about fancy legends, or setting the number of minor x ticks, then you can stop before we get to that part.\n",
    "\n",
    "The goal is to have you leave the tutorial feeling like you know _how_ to get started writing code to visualize and customise your plots."
   ]
  },
  {
   "cell_type": "markdown",
   "metadata": {},
   "source": [
    "## Import modules\n",
    "\n",
    "We're importing everything up here.\n",
    "And they should all be listed in the [requirements.txt](requirements.txt) file in this repository.\n",
    "Checkout the [README](README.md) file for more information on installing these packages."
   ]
  },
  {
   "cell_type": "code",
   "execution_count": 1,
   "metadata": {},
   "outputs": [],
   "source": [
    "from IPython.display import display\n",
    "import matplotlib.lines as mlines\n",
    "import matplotlib.pyplot as plt\n",
    "%matplotlib inline\n",
    "import numpy as np\n",
    "import os\n",
    "import pandas as pd\n",
    "from statsmodels.formula.api import ols\n",
    "import seaborn as sns\n",
    "import string"
   ]
  },
  {
   "cell_type": "markdown",
   "metadata": {},
   "source": [
    "## The task\n",
    "\n",
    "In this study we asked children and adolescents (ages 6 to 18 years old) to lie in an fMRI scanner and complete an visual analogical reasoning task.\n",
    "\n",
    "There were two types of questions.\n",
    "\n",
    "* The **analogy** questions (shown in panel a in the figure below) asked \"Which of the pictures at the bottom goes together with the 3rd picture *in the same way* that the two pictures at the top go together?\"\n",
    "\n",
    "* The **semantic** questions (shown in panel b in the figure below) were the control questions and the participants were simply asked asked \"Which of the pictures below goes best with the picture at the top?\"\n",
    "\n",
    "![](https://raw.githubusercontent.com/KirstieJane/NORA_WhitakerVendetti_DevSci2017/master/FIGURES/Figure1_lowres.png)\n",
    "\n",
    "The answers to the **analogy** question are grouped into four different types:\n",
    "\n",
    "* a **semantic** lure: milk comes from a cow...but that relationship is not the same as the one between dress and wardrobe\n",
    "* a **perceptual** lure: the milk carton looks perceptually similar to the clock (but isn't semantically related)\n",
    "* an **unrelate** lure: the tennis racket has nothing to do with any of the pictures at the top \n",
    "* a **correct** answer: a dress is stored in a wardrobe, the milk is stored in the **fridge**\n",
    "\n",
    "There are three answer types for the **semantic** question:\n",
    "\n",
    "* a **correct** answer: the pen write on the notepad\n",
    "* two **unrelated** lures: tea and sweetcorn have nothing to do with notepaper\n",
    "* a **perceptual** lure: the shower curtain looks like the notepad (but isn't semantically related)\n",
    "\n",
    "### Hypotheses\n",
    "\n",
    "1. Accuracy on both tasks will increase (at a decreasing rate) with age, and accuracy will be higher for the semantic task compared to the analogy task.\n",
    "2. Reaction time on both tasks will decrease (at a decreasing rate) with age, and reaction time will be smaller (faster) for the semantic task compared to the analogy task.\n",
    "3. There will be more semantic errors than perceptual errors, and more perceptual errors than unrelated errors across all ages, although the number of errors will decrease with age (corresponding to an increase in accuracy). "
   ]
  },
  {
   "cell_type": "markdown",
   "metadata": {},
   "source": [
    "## With great power comes great responsibility\n",
    "\n",
    "I've listed some hypotheses above.\n",
    "We can't confirm or reject them by visualizing the data.\n",
    "\n",
    "Just because a line _looks_ like it is going up or down, doesn't mean it is statistically significantly doing so.\n",
    "\n",
    "You can tell many stories with a picture...including ones that mislead people very easily.\n",
    "\n",
    "Be careful!"
   ]
  },
  {
   "cell_type": "markdown",
   "metadata": {},
   "source": [
    "## The data\n",
    "\n",
    "The data is stored in the [DATA/WhitakerVendetti_BehavData.csv](https://github.com/KirstieJane/NORA_WhitakerVendetti_DevSci2017/blob/master/DATA/WhitakerVendetti_BehavData.csv) file in the [NORA_WhitakerVendetti_DevSci2017](https://github.com/KirstieJane/NORA_WhitakerVendetti_DevSci2017) GitHub repository.\n",
    "\n",
    "I've made a copy of it in this repository so you don't have to go and get it from the web 😊\n",
    "\n",
    "The important columns are:\n",
    "\n",
    "* `subid_short`\n",
    "* `Age_scan`\n",
    "* `R1_percent_acc`\n",
    "* `R2_percent_acc`\n",
    "* `R1_meanRTcorr_cor`\n",
    "* `R2_meanRTcorr_cor`\n",
    "* `R2_percent_sem`\n",
    "* `R2_percent_per`\n",
    "* `R2_percent_dis`\n",
    "\n",
    "The `R1` trials are the semantic trials (they have one relationship to process).\n",
    "\n",
    "The `R2` trials are the analogy trials (they have two relationships to process).\n",
    "\n",
    "**Accuracy** is the percentage of correct trials from all the trials a participant saw.\n",
    "\n",
    "**Reaction time** is the mean RT of the _correct_ trials, corrected for some obvious outliers.\n",
    "\n",
    "The **semantic**, **perceptual** and **unrelated** (née \"distractor\") errors are reported as percentages of all the trials the participant saw."
   ]
  },
  {
   "cell_type": "code",
   "execution_count": 2,
   "metadata": {},
   "outputs": [
    {
     "name": "stdout",
     "output_type": "stream",
     "text": [
      "====== Here are the first 5 rows ======\n"
     ]
    },
    {
     "data": {
      "text/html": [
       "<div>\n",
       "<style scoped>\n",
       "    .dataframe tbody tr th:only-of-type {\n",
       "        vertical-align: middle;\n",
       "    }\n",
       "\n",
       "    .dataframe tbody tr th {\n",
       "        vertical-align: top;\n",
       "    }\n",
       "\n",
       "    .dataframe thead th {\n",
       "        text-align: right;\n",
       "    }\n",
       "</style>\n",
       "<table border=\"1\" class=\"dataframe\">\n",
       "  <thead>\n",
       "    <tr style=\"text-align: right;\">\n",
       "      <th></th>\n",
       "      <th>subroot</th>\n",
       "      <th>occ</th>\n",
       "      <th>subid_long</th>\n",
       "      <th>subid_short</th>\n",
       "      <th>subnumber</th>\n",
       "      <th>Male</th>\n",
       "      <th>Age_scan</th>\n",
       "      <th>R1_num_cor</th>\n",
       "      <th>R1_num_sem</th>\n",
       "      <th>R1_num_per</th>\n",
       "      <th>...</th>\n",
       "      <th>R2_meanRT_dis</th>\n",
       "      <th>R2_meanRTcorr_cor</th>\n",
       "      <th>R2_meanRTcorr_sem</th>\n",
       "      <th>R2_meanRTcorr_per</th>\n",
       "      <th>R2_meanRTcorr_dis</th>\n",
       "      <th>R2_percent_sem</th>\n",
       "      <th>R2_percent_per</th>\n",
       "      <th>R2_percent_dis</th>\n",
       "      <th>R2_Correct_dividedby_Semantic</th>\n",
       "      <th>R2_Semantic_dividedby_per_dis</th>\n",
       "    </tr>\n",
       "  </thead>\n",
       "  <tbody>\n",
       "    <tr>\n",
       "      <th>0</th>\n",
       "      <td>n001</td>\n",
       "      <td>1</td>\n",
       "      <td>nora_n001t1</td>\n",
       "      <td>n001_t1</td>\n",
       "      <td>1</td>\n",
       "      <td>0</td>\n",
       "      <td>12.17</td>\n",
       "      <td>38</td>\n",
       "      <td>NaN</td>\n",
       "      <td>0</td>\n",
       "      <td>...</td>\n",
       "      <td>3.91</td>\n",
       "      <td>4.28</td>\n",
       "      <td>6.46</td>\n",
       "      <td>4.9</td>\n",
       "      <td>NaN</td>\n",
       "      <td>12.50000</td>\n",
       "      <td>7.500000</td>\n",
       "      <td>2.500000</td>\n",
       "      <td>6.2</td>\n",
       "      <td>1.25</td>\n",
       "    </tr>\n",
       "    <tr>\n",
       "      <th>1</th>\n",
       "      <td>n002</td>\n",
       "      <td>1</td>\n",
       "      <td>nora_n002t1</td>\n",
       "      <td>n002_t1</td>\n",
       "      <td>2</td>\n",
       "      <td>0</td>\n",
       "      <td>9.53</td>\n",
       "      <td>27</td>\n",
       "      <td>NaN</td>\n",
       "      <td>3</td>\n",
       "      <td>...</td>\n",
       "      <td>1.92</td>\n",
       "      <td>3.68</td>\n",
       "      <td>3.55</td>\n",
       "      <td>NaN</td>\n",
       "      <td>NaN</td>\n",
       "      <td>23.33333</td>\n",
       "      <td>3.333333</td>\n",
       "      <td>3.333333</td>\n",
       "      <td>3.0</td>\n",
       "      <td>3.50</td>\n",
       "    </tr>\n",
       "    <tr>\n",
       "      <th>2</th>\n",
       "      <td>n004</td>\n",
       "      <td>1</td>\n",
       "      <td>nora_n004t1</td>\n",
       "      <td>n004_t1</td>\n",
       "      <td>4</td>\n",
       "      <td>0</td>\n",
       "      <td>15.17</td>\n",
       "      <td>39</td>\n",
       "      <td>NaN</td>\n",
       "      <td>0</td>\n",
       "      <td>...</td>\n",
       "      <td>NaN</td>\n",
       "      <td>4.25</td>\n",
       "      <td>5.69</td>\n",
       "      <td>NaN</td>\n",
       "      <td>NaN</td>\n",
       "      <td>5.00000</td>\n",
       "      <td>2.500000</td>\n",
       "      <td>0.000000</td>\n",
       "      <td>18.5</td>\n",
       "      <td>2.00</td>\n",
       "    </tr>\n",
       "    <tr>\n",
       "      <th>3</th>\n",
       "      <td>n005</td>\n",
       "      <td>1</td>\n",
       "      <td>nora_n005t1</td>\n",
       "      <td>n005_t1</td>\n",
       "      <td>5</td>\n",
       "      <td>0</td>\n",
       "      <td>18.02</td>\n",
       "      <td>38</td>\n",
       "      <td>NaN</td>\n",
       "      <td>0</td>\n",
       "      <td>...</td>\n",
       "      <td>NaN</td>\n",
       "      <td>5.08</td>\n",
       "      <td>NaN</td>\n",
       "      <td>NaN</td>\n",
       "      <td>NaN</td>\n",
       "      <td>0.00000</td>\n",
       "      <td>2.500000</td>\n",
       "      <td>0.000000</td>\n",
       "      <td>39.0</td>\n",
       "      <td>0.00</td>\n",
       "    </tr>\n",
       "    <tr>\n",
       "      <th>4</th>\n",
       "      <td>n009</td>\n",
       "      <td>1</td>\n",
       "      <td>nora_n009t1</td>\n",
       "      <td>n009_t1</td>\n",
       "      <td>9</td>\n",
       "      <td>0</td>\n",
       "      <td>15.55</td>\n",
       "      <td>38</td>\n",
       "      <td>NaN</td>\n",
       "      <td>0</td>\n",
       "      <td>...</td>\n",
       "      <td>NaN</td>\n",
       "      <td>3.84</td>\n",
       "      <td>5.42</td>\n",
       "      <td>NaN</td>\n",
       "      <td>NaN</td>\n",
       "      <td>7.50000</td>\n",
       "      <td>2.500000</td>\n",
       "      <td>0.000000</td>\n",
       "      <td>12.0</td>\n",
       "      <td>3.00</td>\n",
       "    </tr>\n",
       "  </tbody>\n",
       "</table>\n",
       "<p>5 rows × 80 columns</p>\n",
       "</div>"
      ],
      "text/plain": [
       "  subroot  occ   subid_long subid_short  subnumber  Male  Age_scan  \\\n",
       "0    n001    1  nora_n001t1     n001_t1          1     0     12.17   \n",
       "1    n002    1  nora_n002t1     n002_t1          2     0      9.53   \n",
       "2    n004    1  nora_n004t1     n004_t1          4     0     15.17   \n",
       "3    n005    1  nora_n005t1     n005_t1          5     0     18.02   \n",
       "4    n009    1  nora_n009t1     n009_t1          9     0     15.55   \n",
       "\n",
       "   R1_num_cor  R1_num_sem  R1_num_per  ...  R2_meanRT_dis  R2_meanRTcorr_cor  \\\n",
       "0          38         NaN           0  ...           3.91               4.28   \n",
       "1          27         NaN           3  ...           1.92               3.68   \n",
       "2          39         NaN           0  ...            NaN               4.25   \n",
       "3          38         NaN           0  ...            NaN               5.08   \n",
       "4          38         NaN           0  ...            NaN               3.84   \n",
       "\n",
       "   R2_meanRTcorr_sem  R2_meanRTcorr_per  R2_meanRTcorr_dis  R2_percent_sem  \\\n",
       "0               6.46                4.9                NaN        12.50000   \n",
       "1               3.55                NaN                NaN        23.33333   \n",
       "2               5.69                NaN                NaN         5.00000   \n",
       "3                NaN                NaN                NaN         0.00000   \n",
       "4               5.42                NaN                NaN         7.50000   \n",
       "\n",
       "   R2_percent_per  R2_percent_dis  R2_Correct_dividedby_Semantic  \\\n",
       "0        7.500000        2.500000                            6.2   \n",
       "1        3.333333        3.333333                            3.0   \n",
       "2        2.500000        0.000000                           18.5   \n",
       "3        2.500000        0.000000                           39.0   \n",
       "4        2.500000        0.000000                           12.0   \n",
       "\n",
       "   R2_Semantic_dividedby_per_dis  \n",
       "0                           1.25  \n",
       "1                           3.50  \n",
       "2                           2.00  \n",
       "3                           0.00  \n",
       "4                           3.00  \n",
       "\n",
       "[5 rows x 80 columns]"
      ]
     },
     "metadata": {},
     "output_type": "display_data"
    },
    {
     "name": "stdout",
     "output_type": "stream",
     "text": [
      "\n",
      "\n",
      "\n",
      "====== Here are all the columns in the file======\n"
     ]
    },
    {
     "data": {
      "text/plain": [
       "Index(['subroot', 'occ', 'subid_long', 'subid_short', 'subnumber', 'Male',\n",
       "       'Age_scan', 'R1_num_cor', 'R1_num_sem', 'R1_num_per', 'R1_num_dis',\n",
       "       'R1_num_resp', 'R1_num_omi', 'R1_tot_num_q', 'R1_percent_acc',\n",
       "       'R1_num_err_incomi', 'R1_percent_err_incomi', 'R1_num_err_excomi',\n",
       "       'R1_percent_err_excomi', 'R1_percent_err_sem_incomi',\n",
       "       'R1_percent_err_per_incomi', 'R1_percent_err_dis_incomi',\n",
       "       'R1_percent_err_discorr_incomi', 'R1_percent_err_omi_incomi',\n",
       "       'R1_percent_err_sem_excomi', 'R1_percent_err_per_excomi',\n",
       "       'R1_percent_err_dis_excomi', 'R1_percent_err_discorr_excomi',\n",
       "       'R1_percent_resp_cor', 'R1_percent_resp_sem', 'R1_percent_resp_per',\n",
       "       'R1_percent_resp_dis', 'R1_percent_resp_discorr', 'R1_meanRT_cor',\n",
       "       'R1_meanRT_sem', 'R1_meanRT_per', 'R1_meanRT_dis', 'R1_meanRTcorr_cor',\n",
       "       'R1_meanRTcorr_sem', 'R1_meanRTcorr_per', 'R1_meanRTcorr_dis',\n",
       "       'R2_num_cor', 'R2_num_sem', 'R2_num_per', 'R2_num_dis', 'R2_num_resp',\n",
       "       'R2_num_omi', 'R2_tot_num_q', 'R2_percent_acc', 'R2_num_err_incomi',\n",
       "       'R2_percent_err_incomi', 'R2_num_err_excomi', 'R2_percent_err_excomi',\n",
       "       'R2_percent_err_sem_incomi', 'R2_percent_err_per_incomi',\n",
       "       'R2_percent_err_dis_incomi', 'R2_percent_err_discorr_incomi',\n",
       "       'R2_percent_err_omi_incomi', 'R2_percent_err_sem_excomi',\n",
       "       'R2_percent_err_per_excomi', 'R2_percent_err_dis_excomi',\n",
       "       'R2_percent_err_discorr_excomi', 'R2_percent_resp_cor',\n",
       "       'R2_percent_resp_sem', 'R2_percent_resp_per', 'R2_percent_resp_dis',\n",
       "       'R2_percent_resp_discorr', 'R2_meanRT_cor', 'R2_meanRT_sem',\n",
       "       'R2_meanRT_per', 'R2_meanRT_dis', 'R2_meanRTcorr_cor',\n",
       "       'R2_meanRTcorr_sem', 'R2_meanRTcorr_per', 'R2_meanRTcorr_dis',\n",
       "       'R2_percent_sem', 'R2_percent_per', 'R2_percent_dis',\n",
       "       'R2_Correct_dividedby_Semantic', 'R2_Semantic_dividedby_per_dis'],\n",
       "      dtype='object')"
      ]
     },
     "metadata": {},
     "output_type": "display_data"
    },
    {
     "name": "stdout",
     "output_type": "stream",
     "text": [
      "\n",
      "\n",
      "\n",
      "====== Here are some summary statistics from the columns we need ======\n"
     ]
    },
    {
     "data": {
      "text/html": [
       "<div>\n",
       "<style scoped>\n",
       "    .dataframe tbody tr th:only-of-type {\n",
       "        vertical-align: middle;\n",
       "    }\n",
       "\n",
       "    .dataframe tbody tr th {\n",
       "        vertical-align: top;\n",
       "    }\n",
       "\n",
       "    .dataframe thead th {\n",
       "        text-align: right;\n",
       "    }\n",
       "</style>\n",
       "<table border=\"1\" class=\"dataframe\">\n",
       "  <thead>\n",
       "    <tr style=\"text-align: right;\">\n",
       "      <th></th>\n",
       "      <th>Age_scan</th>\n",
       "      <th>R1_percent_acc</th>\n",
       "      <th>R2_percent_acc</th>\n",
       "      <th>R1_meanRTcorr_cor</th>\n",
       "      <th>R2_meanRTcorr_cor</th>\n",
       "      <th>R2_percent_sem</th>\n",
       "      <th>R2_percent_per</th>\n",
       "      <th>R2_percent_dis</th>\n",
       "    </tr>\n",
       "  </thead>\n",
       "  <tbody>\n",
       "    <tr>\n",
       "      <th>count</th>\n",
       "      <td>138.000000</td>\n",
       "      <td>138.000000</td>\n",
       "      <td>138.000000</td>\n",
       "      <td>138.000000</td>\n",
       "      <td>138.000000</td>\n",
       "      <td>138.000000</td>\n",
       "      <td>138.000000</td>\n",
       "      <td>138.000000</td>\n",
       "    </tr>\n",
       "    <tr>\n",
       "      <th>mean</th>\n",
       "      <td>11.040290</td>\n",
       "      <td>89.384058</td>\n",
       "      <td>74.949275</td>\n",
       "      <td>3.598333</td>\n",
       "      <td>4.667681</td>\n",
       "      <td>12.238945</td>\n",
       "      <td>5.067819</td>\n",
       "      <td>2.809829</td>\n",
       "    </tr>\n",
       "    <tr>\n",
       "      <th>std</th>\n",
       "      <td>3.642674</td>\n",
       "      <td>12.514705</td>\n",
       "      <td>18.960706</td>\n",
       "      <td>0.993282</td>\n",
       "      <td>1.004570</td>\n",
       "      <td>9.624469</td>\n",
       "      <td>4.832727</td>\n",
       "      <td>3.486125</td>\n",
       "    </tr>\n",
       "    <tr>\n",
       "      <th>min</th>\n",
       "      <td>6.160000</td>\n",
       "      <td>35.000000</td>\n",
       "      <td>15.000000</td>\n",
       "      <td>1.760000</td>\n",
       "      <td>2.450000</td>\n",
       "      <td>0.000000</td>\n",
       "      <td>0.000000</td>\n",
       "      <td>0.000000</td>\n",
       "    </tr>\n",
       "    <tr>\n",
       "      <th>25%</th>\n",
       "      <td>7.830000</td>\n",
       "      <td>85.000000</td>\n",
       "      <td>60.000000</td>\n",
       "      <td>2.797500</td>\n",
       "      <td>4.002500</td>\n",
       "      <td>5.000000</td>\n",
       "      <td>2.500000</td>\n",
       "      <td>0.000000</td>\n",
       "    </tr>\n",
       "    <tr>\n",
       "      <th>50%</th>\n",
       "      <td>10.430000</td>\n",
       "      <td>95.000000</td>\n",
       "      <td>80.000000</td>\n",
       "      <td>3.430000</td>\n",
       "      <td>4.685000</td>\n",
       "      <td>10.000000</td>\n",
       "      <td>5.000000</td>\n",
       "      <td>2.500000</td>\n",
       "    </tr>\n",
       "    <tr>\n",
       "      <th>75%</th>\n",
       "      <td>13.992500</td>\n",
       "      <td>98.000000</td>\n",
       "      <td>90.000000</td>\n",
       "      <td>4.172500</td>\n",
       "      <td>5.317500</td>\n",
       "      <td>20.000000</td>\n",
       "      <td>7.500000</td>\n",
       "      <td>5.000000</td>\n",
       "    </tr>\n",
       "    <tr>\n",
       "      <th>max</th>\n",
       "      <td>18.850000</td>\n",
       "      <td>100.000000</td>\n",
       "      <td>98.000000</td>\n",
       "      <td>6.430000</td>\n",
       "      <td>7.140000</td>\n",
       "      <td>40.000000</td>\n",
       "      <td>22.500000</td>\n",
       "      <td>20.000000</td>\n",
       "    </tr>\n",
       "  </tbody>\n",
       "</table>\n",
       "</div>"
      ],
      "text/plain": [
       "         Age_scan  R1_percent_acc  R2_percent_acc  R1_meanRTcorr_cor  \\\n",
       "count  138.000000      138.000000      138.000000         138.000000   \n",
       "mean    11.040290       89.384058       74.949275           3.598333   \n",
       "std      3.642674       12.514705       18.960706           0.993282   \n",
       "min      6.160000       35.000000       15.000000           1.760000   \n",
       "25%      7.830000       85.000000       60.000000           2.797500   \n",
       "50%     10.430000       95.000000       80.000000           3.430000   \n",
       "75%     13.992500       98.000000       90.000000           4.172500   \n",
       "max     18.850000      100.000000       98.000000           6.430000   \n",
       "\n",
       "       R2_meanRTcorr_cor  R2_percent_sem  R2_percent_per  R2_percent_dis  \n",
       "count         138.000000      138.000000      138.000000      138.000000  \n",
       "mean            4.667681       12.238945        5.067819        2.809829  \n",
       "std             1.004570        9.624469        4.832727        3.486125  \n",
       "min             2.450000        0.000000        0.000000        0.000000  \n",
       "25%             4.002500        5.000000        2.500000        0.000000  \n",
       "50%             4.685000       10.000000        5.000000        2.500000  \n",
       "75%             5.317500       20.000000        7.500000        5.000000  \n",
       "max             7.140000       40.000000       22.500000       20.000000  "
      ]
     },
     "metadata": {},
     "output_type": "display_data"
    }
   ],
   "source": [
    "# Read in the data\n",
    "df = pd.read_csv('data/WhitakerVendetti_BehavData.csv')\n",
    "\n",
    "# Take a look at the first 5 rows\n",
    "print ('====== Here are the first 5 rows ======')\n",
    "display(df.head())\n",
    "\n",
    "# Print all of the columns - its a big wide file 😬\n",
    "print ('\\n\\n\\n====== Here are all the columns in the file======')\n",
    "display(df.columns)\n",
    "\n",
    "# Lets just keep the columns we need\n",
    "keep_cols = ['subid_short', 'Age_scan',\n",
    "             'R1_percent_acc', 'R2_percent_acc',\n",
    "             'R1_meanRTcorr_cor', 'R2_meanRTcorr_cor',\n",
    "             'R2_percent_sem', 'R2_percent_per', 'R2_percent_dis']\n",
    "df = df.loc[:, keep_cols]\n",
    "\n",
    "# And now lets see the summary information of this subset of the data\n",
    "print ('\\n\\n\\n====== Here are some summary statistics from the columns we need ======')\n",
    "\n",
    "display(df.describe())"
   ]
  },
  {
   "cell_type": "markdown",
   "metadata": {},
   "source": [
    "## A quick scatter plot\n",
    "\n",
    "The first thing we'll do is take a look at our first hypothesis: that accuracy increase with age and that the analogy task is harder than the semantic task.\n",
    "\n",
    "Lets start by making a scatter plot with **age** on the x axis and **semantic accuracy** on the y axis."
   ]
  },
  {
   "cell_type": "code",
   "execution_count": null,
   "metadata": {},
   "outputs": [],
   "source": []
  },
  {
   "cell_type": "markdown",
   "metadata": {},
   "source": [
    "Cool, what about the accuracy on the analogy task?"
   ]
  },
  {
   "cell_type": "code",
   "execution_count": null,
   "metadata": {},
   "outputs": [],
   "source": []
  },
  {
   "cell_type": "markdown",
   "metadata": {},
   "source": [
    "That's nice, but it would probably be more useful if we put these two on the _same_ plot."
   ]
  },
  {
   "cell_type": "code",
   "execution_count": null,
   "metadata": {},
   "outputs": [],
   "source": []
  },
  {
   "cell_type": "markdown",
   "metadata": {},
   "source": [
    "Woah, that was very clever!\n",
    "\n",
    "Matplotlib didn't make two different plots, it assumed that I would want these two plots on the same axis because they were in the same cell.\n",
    "\n",
    "If I had called `plt.show()` inbetween the two lines above I would have ended up with two plots: "
   ]
  },
  {
   "cell_type": "code",
   "execution_count": null,
   "metadata": {},
   "outputs": [],
   "source": []
  },
  {
   "cell_type": "markdown",
   "metadata": {},
   "source": [
    "## Being a little more explicit\n",
    "\n",
    "The scatter plot above shows how easy it is to plot some data - for example to check whether you have any weird outliers or if the pattern of results generally looks the way you'd expect.\n",
    "\n",
    "You can stop here if your goal is to explore the data ✨\n",
    "\n",
    "But some times you'll want to have a bit more control over the plots, and for that we'll introduce the concepts of a matplotlib `figure` and an `axis`.\n",
    "\n",
    "To be honest, we aren't really going to introduce them properly because that's a deeeeeep dive into the matplotlib object-orientated architecture.\n",
    "There's a nice tutorial at [https://matplotlib.org/users/artists.html](https://matplotlib.org/users/artists.html), but all you need to know is that a **figure** is a figure - the canvas on which you'll make your beautiful visualisation - and it can contain multiple **axes** displaying different aspects or types of data.\n",
    "\n",
    "In fact, that makes it a little easier to understand why the way that many people create a figure and an axis is to use the [`subplots`](https://matplotlib.org/api/_as_gen/matplotlib.pyplot.subplots.html#matplotlib.pyplot.subplots) command.\n",
    "(And here's a [stack overflow answer](https://stackoverflow.com/questions/34162443/why-do-many-examples-use-fig-ax-plt-subplots-in-matplotlib-pyplot-python) which explains it in a little more depth.)\n",
    "\n",
    "If you run the command all by itself, you'll make an empty axis which takes up the whole figure area:"
   ]
  },
  {
   "cell_type": "code",
   "execution_count": null,
   "metadata": {},
   "outputs": [],
   "source": []
  },
  {
   "cell_type": "markdown",
   "metadata": {},
   "source": [
    "Lets add our plots to a figure:"
   ]
  },
  {
   "cell_type": "code",
   "execution_count": null,
   "metadata": {},
   "outputs": [],
   "source": []
  },
  {
   "cell_type": "markdown",
   "metadata": {},
   "source": [
    "Did you see that this time we changed `plt.scatter` to `ax.scatter`? \n",
    "\n",
    "That's because we're being more specific about _where_ we want the data to be plotted.\n",
    "Specifically, we want it on the first (only) axis in our figure.\n",
    "\n",
    "We also got explicit about telling jupyter to show the plot with `plt.show()`.\n",
    "You don't need this, but its good practice for when you start coding lots of plots all in one go and don't want them to all appear on the same axis 😂"
   ]
  },
  {
   "cell_type": "markdown",
   "metadata": {},
   "source": [
    "## Let's add a regression line\n",
    "\n",
    "In my paper I modelled the data with a quadratic (yeah, yeah, suboptimal, I know).\n",
    "\n",
    "I used [`statsmodels`](https://www.statsmodels.org/stable/index.html) to fit the model and to get the predicted values."
   ]
  },
  {
   "cell_type": "code",
   "execution_count": 3,
   "metadata": {},
   "outputs": [
    {
     "name": "stdout",
     "output_type": "stream",
     "text": [
      "                            OLS Regression Results                            \n",
      "==============================================================================\n",
      "Dep. Variable:         R1_percent_acc   R-squared:                       0.439\n",
      "Model:                            OLS   Adj. R-squared:                  0.431\n",
      "Method:                 Least Squares   F-statistic:                     52.90\n",
      "Date:                Tue, 30 Jul 2019   Prob (F-statistic):           1.08e-17\n",
      "Time:                        13:26:47   Log-Likelihood:                -504.09\n",
      "No. Observations:                 138   AIC:                             1014.\n",
      "Df Residuals:                     135   BIC:                             1023.\n",
      "Df Model:                           2                                         \n",
      "Covariance Type:            nonrobust                                         \n",
      "===============================================================================\n",
      "                  coef    std err          t      P>|t|      [0.025      0.975]\n",
      "-------------------------------------------------------------------------------\n",
      "Intercept      24.3903      8.738      2.791      0.006       7.109      41.672\n",
      "Age_scan_sq    -0.3356      0.065     -5.182      0.000      -0.464      -0.208\n",
      "Age_scan        9.9928      1.564      6.388      0.000       6.899      13.087\n",
      "==============================================================================\n",
      "Omnibus:                       60.865   Durbin-Watson:                   1.845\n",
      "Prob(Omnibus):                  0.000   Jarque-Bera (JB):              231.262\n",
      "Skew:                          -1.601   Prob(JB):                     6.06e-51\n",
      "Kurtosis:                       8.475   Cond. No.                     1.78e+03\n",
      "==============================================================================\n",
      "\n",
      "Warnings:\n",
      "[1] Standard Errors assume that the covariance matrix of the errors is correctly specified.\n",
      "[2] The condition number is large, 1.78e+03. This might indicate that there are\n",
      "strong multicollinearity or other numerical problems.\n",
      "[96.29380828 89.13994107 98.74451355 95.47706018 98.62386597 86.00711463\n",
      " 90.88652208 74.31126332 87.57048709 97.93672479 97.96194543 76.49506279\n",
      " 96.0126926  97.69242988 81.72384975 88.62994604 73.79281082 87.64790795\n",
      " 97.13663193 98.75701065 80.99870889 77.25408781 83.08296363 90.39094526\n",
      " 95.94299397 83.71888326 98.53626492 98.23602527 74.59694315 98.24109271\n",
      " 95.98183185 84.07635899 91.11262272 93.71103021 95.39240352 98.37775035\n",
      " 95.82486935 98.38928958 90.12046221 78.57676668 98.59595599 94.85272142\n",
      " 95.37107155 98.74637957 84.90814655 94.33187894 75.66722224 81.53195558\n",
      " 78.73266894 94.46275089 80.30828459 94.69989965 83.22033967 79.5539448\n",
      " 78.78450211 79.95813883 89.31889376 98.59400528 84.5171625  75.55570239\n",
      " 75.66722224 74.88094488 76.76765345 93.40951379 97.40598761 92.63197558\n",
      " 83.71888326 93.22006285 96.89101139 94.57265296 73.67686078 94.80671459\n",
      " 98.74637957 94.20897477 98.59400528 78.10543522 83.03703737 98.76134793\n",
      " 73.67686078 78.52466502 94.7372009  93.50036851 93.72663469 98.36750105\n",
      " 97.30957051 94.05927469 90.88652208 79.35023681 91.14465431 88.51894973\n",
      " 98.48547047 75.38791919 92.19378977 98.69502759 98.62652034 95.65541796\n",
      " 96.2277335  87.95490645 91.64803097 77.41502437 89.06789012 92.66065097\n",
      " 76.00017081 88.77700139 95.87633674 85.421001   98.63089685 93.88157045\n",
      " 98.37044729 98.20157736 80.00836102 95.29802252 76.93040235 91.52379778\n",
      " 74.25392598 73.2103757  77.52197979 85.12301058 93.43630971 77.20030804\n",
      " 77.20030804 98.70552839 97.45164325 96.7944735  98.77077177 95.25470064\n",
      " 97.85434596 91.89327539 92.0743895  97.63881438 89.28323747 87.29739966\n",
      " 92.77468132 75.77847359 89.46084768 92.13422388 95.01163095 87.91676657]\n",
      "                            OLS Regression Results                            \n",
      "==============================================================================\n",
      "Dep. Variable:         R2_percent_acc   R-squared:                       0.620\n",
      "Model:                            OLS   Adj. R-squared:                  0.614\n",
      "Method:                 Least Squares   F-statistic:                     110.1\n",
      "Date:                Tue, 30 Jul 2019   Prob (F-statistic):           4.37e-29\n",
      "Time:                        13:26:47   Log-Likelihood:                -534.61\n",
      "No. Observations:                 138   AIC:                             1075.\n",
      "Df Residuals:                     135   BIC:                             1084.\n",
      "Df Model:                           2                                         \n",
      "Covariance Type:            nonrobust                                         \n",
      "===============================================================================\n",
      "                  coef    std err          t      P>|t|      [0.025      0.975]\n",
      "-------------------------------------------------------------------------------\n",
      "Intercept     -32.0272     10.901     -2.938      0.004     -53.585     -10.469\n",
      "Age_scan_sq    -0.5124      0.081     -6.342      0.000      -0.672      -0.353\n",
      "Age_scan       15.9582      1.952      8.177      0.000      12.099      19.818\n",
      "==============================================================================\n",
      "Omnibus:                       15.175   Durbin-Watson:                   1.573\n",
      "Prob(Omnibus):                  0.001   Jarque-Bera (JB):               17.716\n",
      "Skew:                          -0.706   Prob(JB):                     0.000142\n",
      "Kurtosis:                       4.043   Cond. No.                     1.78e+03\n",
      "==============================================================================\n",
      "\n",
      "Warnings:\n",
      "[1] Standard Errors assume that the covariance matrix of the errors is correctly specified.\n",
      "[2] The condition number is large, 1.78e+03. This might indicate that there are\n",
      "strong multicollinearity or other numerical problems.\n",
      "[86.29148456 73.51675661 92.13828347 89.14962595 92.22074162 68.16531464\n",
      " 76.54123021 48.64558036 70.82586722 89.59977732 91.83469292 52.25336972\n",
      " 85.757032   91.59162494 60.95218182 72.63987986 47.79087758 70.95810407\n",
      " 87.93614684 91.81351648 59.73981395 53.51045294 63.23070983 75.67934916\n",
      " 89.6995927  64.29984193 91.03440409 92.049643   49.11682839 90.28902405\n",
      " 89.74485386 64.90175619 76.93555029 86.97963648 89.04844555 92.1397106\n",
      " 89.56134967 90.64861199 75.21025097 55.70528467 92.22023377 83.60009567\n",
      " 89.02289425 92.13411513 66.30501603 82.65051928 50.8842051  60.63113831\n",
      " 55.96436025 87.9168073  58.58746684 88.20870127 63.46150051 57.3305195\n",
      " 56.05051382 58.0037609  73.82505901 91.1997493  65.64492567 50.69990763\n",
      " 50.8842051  49.58551438 52.70463385 80.9896763  88.48071395 79.60608608\n",
      " 64.29984193 80.65131114 87.44886919 83.08829381 47.59981633 83.51582018\n",
      " 92.13411513 82.42778897 91.1997493  54.92252392 63.15357464 92.08679524\n",
      " 47.59981633 55.61872118 83.38863832 86.71414707 81.55804797 90.59429451\n",
      " 88.28438819 82.15713069 76.54123021 56.99143925 76.9914718  72.44936442\n",
      " 92.19189572 50.42269282 78.83182675 91.52941719 91.29851265 85.08525191\n",
      " 90.02905943 71.48295221 77.87227853 53.77721464 73.39271828 79.65688352\n",
      " 51.43463795 72.8924657  85.49972973 67.17222383 91.31221177 81.8366998\n",
      " 92.13557794 92.02511879 58.08745491 84.42030469 52.97416255 77.6545364\n",
      " 48.55102331 46.83147207 53.95454336 66.66814604 81.03760425 53.42132741\n",
      " 53.42132741 92.19103944 91.35733242 87.25937629 92.00995838 84.34012845\n",
      " 91.7405883  78.30284366 78.62146329 88.96249328 73.76360349 70.35981007\n",
      " 79.85904845 51.06809264 74.06985625 78.72684998 83.89183174 71.41770488]\n"
     ]
    }
   ],
   "source": [
    "# Add a column to our data frame for the Age_scan squared\n",
    "df['Age_scan_sq'] = df['Age_scan']**2\n",
    "\n",
    "# Semantic\n",
    "formula_sem = 'R1_percent_acc ~ Age_scan_sq + Age_scan'\n",
    "mod_sem = ols(formula=formula_sem, data=df)\n",
    "results_sem = mod_sem.fit()\n",
    "print(results_sem.summary())\n",
    "predicted_sem = results_sem.predict()\n",
    "print(predicted_sem)\n",
    "\n",
    "# Analogy\n",
    "formula_ana = 'R2_percent_acc ~ Age_scan_sq + Age_scan'\n",
    "mod_ana = ols(formula=formula_ana, data=df)\n",
    "results_ana = mod_ana.fit()\n",
    "print(results_ana.summary())\n",
    "predicted_ana = results_ana.predict()\n",
    "print(predicted_ana)"
   ]
  },
  {
   "cell_type": "markdown",
   "metadata": {},
   "source": [
    "Lets plot that modelled pattern on our scatter plot."
   ]
  },
  {
   "cell_type": "code",
   "execution_count": null,
   "metadata": {},
   "outputs": [],
   "source": []
  },
  {
   "cell_type": "markdown",
   "metadata": {},
   "source": [
    "Hmmmm, that looks ok....but usually we'd draw these predicted values as a line rather than individual points.\n",
    "And they'd be the same color.\n",
    "\n",
    "To connect up the dots, we're going to use `ax.plot` instead of `ax.scatter`."
   ]
  },
  {
   "cell_type": "code",
   "execution_count": null,
   "metadata": {},
   "outputs": [],
   "source": []
  },
  {
   "cell_type": "markdown",
   "metadata": {},
   "source": [
    "Woah! That's not right.\n",
    "\n",
    "We forgot to sort the data into ascending order before we plotted it so we've connected all the points in the order that the participants joined the study....which is not a helpful ordering at all.\n",
    "\n",
    "So instead, lets add the predicted values to our data frame and sort the data before we plot it:"
   ]
  },
  {
   "cell_type": "code",
   "execution_count": 4,
   "metadata": {},
   "outputs": [],
   "source": [
    "df['R1_percent_acc_pred'] = predicted_sem\n",
    "df['R2_percent_acc_pred'] = predicted_ana\n",
    "\n",
    "df = df.sort_values(by='Age_scan', axis = 0)"
   ]
  },
  {
   "cell_type": "code",
   "execution_count": null,
   "metadata": {},
   "outputs": [],
   "source": []
  },
  {
   "cell_type": "markdown",
   "metadata": {},
   "source": [
    "Cool!\n",
    "But those lines aren't very easy to see.\n",
    "\n",
    "Let's make them a little thicker."
   ]
  },
  {
   "cell_type": "code",
   "execution_count": null,
   "metadata": {},
   "outputs": [],
   "source": []
  },
  {
   "cell_type": "markdown",
   "metadata": {},
   "source": [
    "## Add a legend\n",
    "\n",
    "These two lines aren't labelled!\n",
    "We don't know which one is which.\n",
    "\n",
    "So lets add a legend to the plot.\n",
    "\n",
    "The function is called `ax.legend()` and we don't tell it the labels directly, we actually add those as _attributes_ of the scatter plots by adding `label`s."
   ]
  },
  {
   "cell_type": "code",
   "execution_count": null,
   "metadata": {},
   "outputs": [],
   "source": []
  },
  {
   "cell_type": "markdown",
   "metadata": {},
   "source": [
    "So that's pretty cool.\n",
    "Matplotlib hasn't added the regression lines to the legend, only the scatter plots, because they have labels.\n",
    "\n",
    "The legend positioning is also very clever, matplotlib has put it in the location with the fewest dots!\n",
    "\n",
    "Here's the [documentation](https://matplotlib.org/3.1.1/api/_as_gen/matplotlib.pyplot.legend.html) that shows you how to be explicit about where to put the legend.\n",
    "The default value for `loc` is `best`, and we can happily keep that for the rest of this notebook.\n",
    "\n",
    "If you really wanted to put it somewhere else, you can set the location explicitly.\n",
    "For example, in the center on the right hand side."
   ]
  },
  {
   "cell_type": "code",
   "execution_count": null,
   "metadata": {},
   "outputs": [],
   "source": []
  },
  {
   "cell_type": "markdown",
   "metadata": {},
   "source": [
    "## Change the colors\n",
    "\n",
    "The fact that our semantic data (dots) and predicted values (line) are both blue, and that the analogy data are both orange, is a consequence of the order in which we've asked matplotlib to plot the data.\n",
    "\n",
    "At the moment, matplotlib is coloring the first scatter plot with its first default color, and the second with the second default color.\n",
    "\n",
    "Then when we give it a different type of plot (`plot` vs `scatter`) it starts the color cycle again.\n",
    "(You can see the order of the colours in the [documentation of when they were introduced](https://matplotlib.org/3.1.1/users/dflt_style_changes.html#colors-in-default-property-cycle).)\n",
    "\n",
    "If we move the order of the two regression lines the colours will change:"
   ]
  },
  {
   "cell_type": "code",
   "execution_count": null,
   "metadata": {},
   "outputs": [],
   "source": []
  },
  {
   "cell_type": "markdown",
   "metadata": {},
   "source": [
    "So that's no good!\n",
    "\n",
    "Let's explicitly set the colors."
   ]
  },
  {
   "cell_type": "code",
   "execution_count": 5,
   "metadata": {},
   "outputs": [
    {
     "name": "stdout",
     "output_type": "stream",
     "text": [
      "(0.8941176470588236, 0.10196078431372549, 0.10980392156862745)\n",
      "(0.21568627450980393, 0.49411764705882355, 0.7215686274509804)\n",
      "(0.30196078431372547, 0.6862745098039216, 0.2901960784313726)\n",
      "(0.596078431372549, 0.3058823529411765, 0.6392156862745098)\n",
      "(1.0, 0.4980392156862745, 0.0)\n"
     ]
    },
    {
     "data": {
      "image/png": "[encoded data removed]",
      "text/plain": [
       "<Figure size 360x72 with 1 Axes>"
      ]
     },
     "metadata": {
      "needs_background": "light"
     },
     "output_type": "display_data"
    }
   ],
   "source": [
    "color_list = sns.color_palette(\"Set1\", n_colors=5)\n",
    "\n",
    "for color in color_list:\n",
    "    print(color)\n",
    "\n",
    "sns.palplot(color_list)"
   ]
  },
  {
   "cell_type": "markdown",
   "metadata": {},
   "source": [
    "Cool....the colours are fixed....but wow those aren't nice to look at 😕"
   ]
  },
  {
   "cell_type": "markdown",
   "metadata": {},
   "source": [
    "## Color management with Seaborn\n",
    "\n",
    "[Seaborn](https://seaborn.pydata.org) is a Python data visualization library based on matplotlib.\n",
    "It provides a high-level interface for drawing attractive and informative statistical graphics.\n",
    "\n",
    "It does many beautiful things (a few of which we're going to explore) but it can sometimes be so clever that it becomes a little opaque.\n",
    "\n",
    "If in doubt, remember that seaborn will almost always return an `axis` object for you, and you can change those settings just as you would in matplotlib.\n",
    "\n",
    "One of the very nice things that seaborn does is manage colors easily.\n",
    "\n",
    "The red and blue that I used in the published figure came from the [\"Set1\" Brewer color map](http://colorbrewer2.org/#type=qualitative&scheme=Set1&n=5).\n",
    "\n",
    "We can get the RGB values for the colors in this qualitative color map from seaborn's `color_palette` function, and visualize them using the \"palette plot\" (`palplot`) function."
   ]
  },
  {
   "cell_type": "code",
   "execution_count": null,
   "metadata": {},
   "outputs": [],
   "source": []
  },
  {
   "cell_type": "markdown",
   "metadata": {},
   "source": [
    "Ok, now that we have our much nicer colors, let's change the red and blue in our accuracy plot."
   ]
  },
  {
   "cell_type": "code",
   "execution_count": null,
   "metadata": {},
   "outputs": [],
   "source": []
  },
  {
   "cell_type": "markdown",
   "metadata": {},
   "source": [
    "## Really jazzing up the plot with seaborn\n",
    "\n",
    "Another other two really beautiful things that seaborn can do is set the **context** of the plot, and the figure **style**.\n",
    "\n",
    "There are lots of great examples in the [aesthetics tutorial](https://seaborn.pydata.org/tutorial/aesthetics.html) which I really encourage you to have a play around with.\n",
    "\n",
    "Let's check out the `poster` context, with a `darkgrid` background."
   ]
  },
  {
   "cell_type": "code",
   "execution_count": null,
   "metadata": {},
   "outputs": [],
   "source": []
  },
  {
   "cell_type": "markdown",
   "metadata": {},
   "source": [
    "Now that we've run the code above, lets re-make our scatter plot:"
   ]
  },
  {
   "cell_type": "code",
   "execution_count": null,
   "metadata": {},
   "outputs": [],
   "source": []
  },
  {
   "cell_type": "markdown",
   "metadata": {},
   "source": [
    "Wowzers trousers. \n",
    "That's no good 😬\n",
    "\n",
    "How about `notebook` context with a `ticks` background?"
   ]
  },
  {
   "cell_type": "code",
   "execution_count": null,
   "metadata": {},
   "outputs": [],
   "source": []
  },
  {
   "cell_type": "code",
   "execution_count": null,
   "metadata": {},
   "outputs": [],
   "source": []
  },
  {
   "cell_type": "markdown",
   "metadata": {},
   "source": [
    "Fun, we've got back to the matplotlib default!\n",
    "\n",
    "The settings have changed slightly since I wrote the original code in 2016, but I think the closest setting is `notebook` context with a `font_scale` of 1.5 and the `white` style."
   ]
  },
  {
   "cell_type": "code",
   "execution_count": null,
   "metadata": {},
   "outputs": [],
   "source": []
  },
  {
   "cell_type": "code",
   "execution_count": null,
   "metadata": {},
   "outputs": [],
   "source": []
  },
  {
   "cell_type": "markdown",
   "metadata": {},
   "source": [
    "When you run the `set_context` and `set_style` commands they become global settings for all plots that you subsequently make in the same notebook (or script).\n",
    "\n",
    "Personally I load them in at the top of all my notebooks because I think they make the plots look nicer 💁‍♀️\n",
    "\n",
    "Oh, and I like the plots [despined](https://seaborn.pydata.org/tutorial/aesthetics.html#removing-axes-spines) too, so lets do that real quick:"
   ]
  },
  {
   "cell_type": "code",
   "execution_count": null,
   "metadata": {},
   "outputs": [],
   "source": []
  },
  {
   "cell_type": "markdown",
   "metadata": {},
   "source": [
    "## Axis labels, limits and tick placement\n",
    "\n",
    "### Labels\n",
    "\n",
    "Our plots don't have any axis labels!\n",
    "How will anyone know what they're looking at?!\n",
    "\n",
    "Let's go ahead and label them 😸"
   ]
  },
  {
   "cell_type": "code",
   "execution_count": null,
   "metadata": {},
   "outputs": [],
   "source": []
  },
  {
   "cell_type": "markdown",
   "metadata": {},
   "source": [
    "### Limits\n",
    "\n",
    "One of the things that's really nice to do is to be able to set the min and max values for a figure.\n",
    "\n",
    "At the moment, matplotlib is guessing at a good place to start and stop the axes.\n",
    "And it's doing a great job...but what if you wanted to show a subset of the data?\n",
    "If the minimum or maxium age or reaction time values were different then you'd end up with slightly different dimensions on the x and y axes.\n",
    "\n",
    "Let's see what it's guessing:"
   ]
  },
  {
   "cell_type": "code",
   "execution_count": null,
   "metadata": {},
   "outputs": [],
   "source": []
  },
  {
   "cell_type": "markdown",
   "metadata": {},
   "source": [
    "To be honest, its doing a great job.\n",
    "\n",
    "I'd be inclined to leave it, but I wrote a little function to pad the axes by 5% of the data range and I think its useful for times when matplotlib isn't choosing sensibly,  so let me show you how it works anyway."
   ]
  },
  {
   "cell_type": "code",
   "execution_count": 6,
   "metadata": {},
   "outputs": [],
   "source": [
    "def get_min_max(data, pad_percent=5):\n",
    "    \"\"\"\n",
    "    Calculate the range of the data by subtracting the minimum from the maximum value.\n",
    "    \n",
    "    Subtract pad_percent of the range from the minimum value.\n",
    "    Add pad_percent of the range to the maximum value.\n",
    "    \n",
    "    Default value for pad_percent is 5 which corresponds to 5%.\n",
    "    \n",
    "    Return the padded min and max values.\n",
    "    \"\"\"\n",
    "    data_range = np.max(data) - np.min(data)\n",
    "    data_min = np.min(data) - (data_range * pad_percent/100.0)\n",
    "    data_max = np.max(data) + (data_range * pad_percent/100.0)\n",
    "\n",
    "    return data_min, data_max"
   ]
  },
  {
   "cell_type": "code",
   "execution_count": null,
   "metadata": {},
   "outputs": [],
   "source": []
  },
  {
   "cell_type": "markdown",
   "metadata": {},
   "source": [
    "You could set `pad_percent` to 0 to get rid of all the white space if you wanted to."
   ]
  },
  {
   "cell_type": "code",
   "execution_count": null,
   "metadata": {},
   "outputs": [],
   "source": []
  },
  {
   "cell_type": "markdown",
   "metadata": {},
   "source": [
    "(You shouldn't though, it has cut off a bunch of the dots!)"
   ]
  },
  {
   "cell_type": "markdown",
   "metadata": {},
   "source": [
    "### Tick placement\n",
    "\n",
    "Seaborn and matplotlib have made a good guess at where to put the x and y ticks, but I don't think they're the most intuitive way of illustrating a 6 to 18 year age range.\n",
    "\n",
    "So lets just put the ticks where I think they should be: at 6, 10, 14 and 18."
   ]
  },
  {
   "cell_type": "code",
   "execution_count": null,
   "metadata": {},
   "outputs": [],
   "source": []
  },
  {
   "cell_type": "markdown",
   "metadata": {},
   "source": [
    "For the y ticks we can use the ticker `locator_params` to put them in the best place for getting a maximum of 6 ticks.\n",
    "\n",
    "This is basically what matplotlib is already doing, but I'll show you the command just in case you want to use it in the future.\n",
    "\n",
    "For example, if you wanted to force the plot to have 4 bins, you'd set `nbins` to 4:"
   ]
  },
  {
   "cell_type": "code",
   "execution_count": null,
   "metadata": {},
   "outputs": [],
   "source": []
  },
  {
   "cell_type": "markdown",
   "metadata": {},
   "source": [
    "And note that even when we set `nbins` to 6 (as I wrote in the original figure code), it actually only gives us 5 ticks, because matplotlib - correctly - can't find a sensible way to parse the range to give us 6 evenly spaced ticks on they y axis."
   ]
  },
  {
   "cell_type": "code",
   "execution_count": null,
   "metadata": {},
   "outputs": [],
   "source": []
  },
  {
   "cell_type": "markdown",
   "metadata": {},
   "source": [
    "One quick point to remember here: the x and y axis **limits** are not the same as the **tick locations**.\n",
    "The limits are the edges of the plot.\n",
    "The tick locations are where the markers sit on the axes."
   ]
  },
  {
   "cell_type": "markdown",
   "metadata": {},
   "source": [
    "## Adding confidence intervals with seaborn\n",
    "\n",
    "We're doing great.\n",
    "Matplotlib has got us to a pretty nice looking plot.\n",
    "\n",
    "But, a responsible visualization should have some error bars on it....and they are a pain to try to write ourselves.\n",
    "\n",
    "So at this point, we're going to replace our `scatter` and `plot` functions (and all the code used to calculate the predicted values) with the wonderful [`regplot` function](https://seaborn.pydata.org/generated/seaborn.regplot.html) in seaborn."
   ]
  },
  {
   "cell_type": "code",
   "execution_count": null,
   "metadata": {},
   "outputs": [],
   "source": []
  },
  {
   "cell_type": "markdown",
   "metadata": {},
   "source": [
    "Doh, that's not right.\n",
    "We've fitted a straight line to data that is clearly reaching ceiling.\n",
    "\n",
    "Fortunately, `regplot` take a parameter, `order=2`, to make the fitted line follow a quadratic function."
   ]
  },
  {
   "cell_type": "code",
   "execution_count": null,
   "metadata": {},
   "outputs": [],
   "source": []
  },
  {
   "cell_type": "markdown",
   "metadata": {},
   "source": [
    "## Advanced legend-ing\n",
    "\n",
    "Those dots in the legend aren't great: they look like they correspond to data points!\n",
    "\n",
    "The following function replaces those dots with a line the same color as the colors we've used for the regplots.\n",
    "\n",
    "I think this is some pretty hardcore matplotlib, and you _really_ only need it when you want to publish your figure.\n",
    "\n",
    "There's a [matplotlib legend guide](https://matplotlib.org/3.1.1/tutorials/intermediate/legend_guide.html) if you want to dig into what's going on here...but be warned that it gets intense pretty quickly. "
   ]
  },
  {
   "cell_type": "code",
   "execution_count": 7,
   "metadata": {},
   "outputs": [],
   "source": [
    "def add_line_to_legend(ax, color_list, label_list, loc='best', frameon=True):\n",
    "    \"\"\"\n",
    "    Add a legend that has lines instead of markers.\n",
    "    \"\"\"\n",
    "    line_list = []\n",
    "    for color, label in zip(color_list, label_list):\n",
    "        line_list += [mlines.Line2D([], [], color=color, marker=None, label=label)]\n",
    "    ax.legend(handles=line_list, loc=loc, frameon=frameon)\n",
    "\n",
    "    return ax"
   ]
  },
  {
   "cell_type": "code",
   "execution_count": null,
   "metadata": {},
   "outputs": [],
   "source": []
  },
  {
   "cell_type": "markdown",
   "metadata": {},
   "source": [
    "Yeaaaaah!\n",
    "You did it!\n",
    "\n",
    "The figure looks just like the published one.... except that that one has a bunch of other plots too!\n",
    "\n",
    "![](https://raw.githubusercontent.com/KirstieJane/NORA_WhitakerVendetti_DevSci2017/master/FIGURES/Figure2_lowres.png)\n"
   ]
  },
  {
   "cell_type": "markdown",
   "metadata": {},
   "source": [
    "## A second plot: Reaction time\n",
    "\n",
    "A second hypothesis that we had was that participants would answer faster as they got older (reaction time would decrease) and that they would be **slower** (high RT) for the analogy trials.\n",
    "\n",
    "These data are shown in the second panel in the published figure.\n",
    "\n",
    "It's actually super similar to the first panel, we're just plotting two different variable from the data frame.\n",
    "\n",
    "Let's see what happens if we change the plotting code to have a different variable:"
   ]
  },
  {
   "cell_type": "code",
   "execution_count": null,
   "metadata": {},
   "outputs": [],
   "source": []
  },
  {
   "cell_type": "markdown",
   "metadata": {},
   "source": [
    "🚀🌟🚀🌟🚀🌟🚀🌟🚀🌟🚀🌟\n",
    "\n",
    "Fantastic!\n",
    "We've made the second panel!\n",
    "Just like that."
   ]
  },
  {
   "cell_type": "markdown",
   "metadata": {},
   "source": [
    "## Third plot: Errors\n",
    "\n",
    "The third hypothesis that we want to test is that there are more semantic errors than perceptual errors, and more perceptual errors than unrelated errors.\n",
    "\n",
    "As accuracy is increasing, the separate modelled lines (quadratic again) will all decrease.\n",
    "\n"
   ]
  },
  {
   "cell_type": "code",
   "execution_count": null,
   "metadata": {},
   "outputs": [],
   "source": []
  },
  {
   "cell_type": "markdown",
   "metadata": {},
   "source": [
    "## One function to plot them all\n",
    "\n",
    "Do you remember how our figure plotting code was really similar across the three panels?\n",
    "\n",
    "I think we can make a general function for our plots."
   ]
  },
  {
   "cell_type": "code",
   "execution_count": 8,
   "metadata": {},
   "outputs": [],
   "source": [
    "def visan_behav_plot(ax, behav_var_list, label_list, color_list, y_ax_label, legend_rev=False):\n",
    "    \"\"\"\n",
    "    Plot the visual analogy behavioural results on a given axis (ax)\n",
    "    \"\"\"\n",
    "    \n",
    "    # Get the min and max values for the x and y axes\n",
    "    x_min, x_max = get_min_max(df['Age_scan'])\n",
    "    y_min, y_max = get_min_max(df[behav_var_list[-1]])\n",
    "\n",
    "    # Loop over all the behavioural measures you want to plot\n",
    "    for behav_var, label, color in zip(behav_var_list, label_list, color_list):\n",
    "        sns.regplot(df['Age_scan'], df[behav_var],\n",
    "                    label = label,                      \n",
    "                    color = color,\n",
    "                    ax = ax,\n",
    "                    order = 2)\n",
    "    \n",
    "    # Set the x and y tick locations\n",
    "    ax.set_xticks([6, 10, 14, 18]) \n",
    "    ax.locator_params(nbins=6, axis='y')\n",
    "    \n",
    "    # Set the x and y min and max axis limits\n",
    "    ax.set_xlim(x_min, x_max)\n",
    "    ax.set_ylim(y_min, y_max)\n",
    "    \n",
    "    # Set the x and y labels\n",
    "    ax.set_xlabel('Age (years)') \n",
    "    ax.set_ylabel(y_ax_label)\n",
    "    \n",
    "    # Add a legend\n",
    "    if legend_rev:\n",
    "        color_list = color_list[::-1]\n",
    "        label_list = label_list[::-1]\n",
    "        \n",
    "    ax = add_line_to_legend(ax,\n",
    "                            color_list,\n",
    "                            label_list,\n",
    "                            loc='best',\n",
    "                            frameon=False)\n",
    "    sns.despine()\n",
    "    \n",
    "    return ax"
   ]
  },
  {
   "cell_type": "code",
   "execution_count": 9,
   "metadata": {},
   "outputs": [
    {
     "data": {
      "image/png": "[encoded data removed]",
      "text/plain": [
       "<Figure size 432x288 with 1 Axes>"
      ]
     },
     "metadata": {
      "needs_background": "light"
     },
     "output_type": "display_data"
    },
    {
     "data": {
      "image/png": "[encoded data removed]",
      "text/plain": [
       "<Figure size 432x288 with 1 Axes>"
      ]
     },
     "metadata": {
      "needs_background": "light"
     },
     "output_type": "display_data"
    },
    {
     "data": {
      "image/png": "[encoded data removed]",
      "text/plain": [
       "<Figure size 432x288 with 1 Axes>"
      ]
     },
     "metadata": {
      "needs_background": "light"
     },
     "output_type": "display_data"
    }
   ],
   "source": [
    "# Accuracy\n",
    "fig, ax = plt.subplots()\n",
    "ax = visan_behav_plot(ax,\n",
    "                      ['R1_percent_acc', 'R2_percent_acc'], \n",
    "                      ['Semantic', 'Analogy'],\n",
    "                      color_list[:2],\n",
    "                      'Accuracy (% resp)',\n",
    "                      legend_rev=False)\n",
    "plt.show()\n",
    "\n",
    "# Reaction time\n",
    "fig, ax = plt.subplots()\n",
    "ax = visan_behav_plot(ax,\n",
    "                      ['R1_meanRTcorr_cor', 'R2_meanRTcorr_cor'], \n",
    "                      ['Semantic', 'Analogy'],\n",
    "                      color_list[:2],\n",
    "                      'Reaction time (s)',\n",
    "                      legend_rev=False)\n",
    "plt.show()\n",
    "\n",
    "# Errors\n",
    "fig, ax = plt.subplots()\n",
    "ax = visan_behav_plot(ax,\n",
    "                      ['R2_percent_dis', 'R2_percent_per', 'R2_percent_sem'], \n",
    "                      ['Unrelated', 'Perceptual', 'Semantic'],\n",
    "                      color_list[2:5],\n",
    "                      'Reaction time (s)',\n",
    "                      legend_rev=True)\n",
    "plt.show()"
   ]
  },
  {
   "cell_type": "markdown",
   "metadata": {},
   "source": [
    "## Three subplots\n",
    "\n",
    "Our last step is to put these three plots into one figure.\n",
    "\n",
    "We can use `subplots` to set the number of equally sized plots and `figsize` to set the dimensions of the figure.\n",
    "\n",
    "Let's see what that looks like on its own."
   ]
  },
  {
   "cell_type": "code",
   "execution_count": null,
   "metadata": {},
   "outputs": [],
   "source": []
  },
  {
   "cell_type": "markdown",
   "metadata": {},
   "source": [
    "One thing to note is that instead of getting just one axis back now, we get an **axis list** which allows us to iterate over the three panels."
   ]
  },
  {
   "cell_type": "code",
   "execution_count": 10,
   "metadata": {},
   "outputs": [],
   "source": [
    "if not os.path.isdir('figures'):\n",
    "    os.makedirs('figures')"
   ]
  },
  {
   "cell_type": "code",
   "execution_count": null,
   "metadata": {},
   "outputs": [],
   "source": []
  },
  {
   "cell_type": "markdown",
   "metadata": {},
   "source": [
    "### Save the figure\n",
    "\n",
    "We can save this figure using `fig.savefig`."
   ]
  },
  {
   "cell_type": "code",
   "execution_count": null,
   "metadata": {},
   "outputs": [],
   "source": []
  },
  {
   "cell_type": "markdown",
   "metadata": {},
   "source": [
    "## Panel labels\n",
    "\n",
    "This is where I'm probably going a little overboard.\n",
    "Setting the panel labels is definitely easier in any other picture editing software!!\n",
    "\n",
    "But, it brings me great joy to make the figure entirely from code, so lets go ahead and use this function to add the panel labels."
   ]
  },
  {
   "cell_type": "code",
   "execution_count": 11,
   "metadata": {},
   "outputs": [],
   "source": [
    "def add_panel_labels_fig2(ax_list):\n",
    "    \"\"\"\n",
    "    Add panel labels (a, b, c) to the scatter plot.\n",
    "    \n",
    "    Note that these positions have been calibrated by hand...\n",
    "    there isn't a good way to do it otherwise.\n",
    "    \"\"\"\n",
    "    x_list = [ -0.17, -0.1, -0.14 ]\n",
    "    y = 1.1\n",
    "    color='k'\n",
    "    fontsize=18\n",
    "\n",
    "    letters = string.ascii_lowercase\n",
    "    for i, ax in enumerate(ax_list):\n",
    "\n",
    "        ax.text(x_list[i], y,\n",
    "                '({})'.format(letters[i]),\n",
    "                fontsize=fontsize,\n",
    "                transform=ax.transAxes,\n",
    "                color=color,\n",
    "                horizontalalignment='center',\n",
    "                verticalalignment='center',\n",
    "                fontname='arial',\n",
    "                fontweight='bold'\n",
    "        )\n",
    "\n",
    "    return ax_list"
   ]
  },
  {
   "cell_type": "code",
   "execution_count": 12,
   "metadata": {},
   "outputs": [
    {
     "data": {
      "image/png": "[encoded data removed]",
      "text/plain": [
       "<Figure size 1152x324 with 3 Axes>"
      ]
     },
     "metadata": {
      "needs_background": "light"
     },
     "output_type": "display_data"
    }
   ],
   "source": [
    "fig, ax_list = plt.subplots(1, 3, figsize=(16,4.5))\n",
    "\n",
    "# Accuracy\n",
    "ax = ax_list[0]\n",
    "ax = visan_behav_plot(ax,\n",
    "                      ['R1_percent_acc', 'R2_percent_acc'], \n",
    "                      ['Semantic', 'Analogy'],\n",
    "                      color_list[:2],\n",
    "                      'Accuracy (% resp)',\n",
    "                      legend_rev=False)\n",
    "\n",
    "# Reaction time\n",
    "ax = ax_list[1]\n",
    "ax = visan_behav_plot(ax,\n",
    "                      ['R1_meanRTcorr_cor', 'R2_meanRTcorr_cor'], \n",
    "                      ['Semantic', 'Analogy'],\n",
    "                      color_list[:2],\n",
    "                      'Reaction time (s)',\n",
    "                      legend_rev=False)\n",
    "\n",
    "# Errors\n",
    "ax = ax_list[2]\n",
    "ax = visan_behav_plot(ax,\n",
    "                      ['R2_percent_dis', 'R2_percent_per', 'R2_percent_sem'], \n",
    "                      ['Unrelated', 'Perceptual', 'Semantic'],\n",
    "                      color_list[2:5],\n",
    "                      'Analogy error rate (% resp)',\n",
    "                      legend_rev=True)\n",
    "\n",
    "ax_list = add_panel_labels_fig2(ax_list) # <-------- Add the panel labels\n",
    "\n",
    "plt.tight_layout()\n",
    "fig.savefig('figures/Figure2.png', dpi=150, bbox_inches=0)\n",
    "plt.show()"
   ]
  },
  {
   "cell_type": "markdown",
   "metadata": {},
   "source": [
    "## Congratulations!\n",
    "\n",
    "We did it! 🎉🎉🎉\n",
    "\n",
    "Look how similar these two figures look!\n",
    "\n",
    "#### Figure 2 from GitHub repository\n",
    "\n",
    "![](https://raw.githubusercontent.com/KirstieJane/NORA_WhitakerVendetti_DevSci2017/master/FIGURES/Figure2_lowres.png)\n",
    "\n",
    "#### Figure 2 we've just made\n",
    "\n",
    "![](figures/Figure2.png)\n",
    "\n",
    "\n",
    "## The end\n",
    "\n",
    "Well done 💖"
   ]
  }
 ],
 "metadata": {
  "kernelspec": {
   "display_name": "nh19-visualization",
   "language": "python",
   "name": "nh19-visualization"
  },
  "language_info": {
   "codemirror_mode": {
    "name": "ipython",
    "version": 3
   },
   "file_extension": ".py",
   "mimetype": "text/x-python",
   "name": "python",
   "nbconvert_exporter": "python",
   "pygments_lexer": "ipython3",
   "version": "3.7.3"
  }
 },
 "nbformat": 4,
 "nbformat_minor": 2
}
